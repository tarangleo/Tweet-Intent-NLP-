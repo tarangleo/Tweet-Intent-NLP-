{
 "cells": [
  {
   "cell_type": "markdown",
   "id": "738b26a2-5a1d-476c-95b4-03c380ab51ab",
   "metadata": {},
   "source": [
    "# Data Loading"
   ]
  },
  {
   "cell_type": "code",
   "execution_count": 1,
   "id": "7f02a834-a2e9-4c4d-9a8e-a6b9a208bdf7",
   "metadata": {},
   "outputs": [],
   "source": [
    "import pandas as pd\n",
    "import numpy as np"
   ]
  },
  {
   "cell_type": "markdown",
   "id": "b85ed6ce-b7cf-4432-9a04-34afaa07f45e",
   "metadata": {},
   "source": []
  },
  {
   "cell_type": "code",
   "execution_count": 2,
   "id": "f9aeeba6-4705-480d-b0ed-1de81fb92c25",
   "metadata": {},
   "outputs": [],
   "source": [
    "df=pd.read_csv(\"Tweet_NFT.xlsx - Sheet1.csv\",header=None)"
   ]
  },
  {
   "cell_type": "code",
   "execution_count": null,
   "id": "0c0811b0-ed7c-4a6e-b63d-07038bc7cf4f",
   "metadata": {},
   "outputs": [],
   "source": []
  },
  {
   "cell_type": "markdown",
   "id": "abc4191b-f252-452a-a383-745f97fa3733",
   "metadata": {},
   "source": [
    "# Data preprocessing"
   ]
  },
  {
   "cell_type": "code",
   "execution_count": 3,
   "id": "8e6455f4-e72d-4314-aea9-1ea6c1b9f591",
   "metadata": {},
   "outputs": [],
   "source": [
    "df=df.dropna()  "
   ]
  },
  {
   "cell_type": "markdown",
   "id": "ac9a55c4-8526-428a-914a-b578b4a8c700",
   "metadata": {},
   "source": [
    "dropping NaN values for:\n",
    "    1. To know the train size\n",
    "    2. To do intial operations on training data(which is complete) "
   ]
  },
  {
   "cell_type": "code",
   "execution_count": null,
   "id": "45bd6ce6-a3c8-47f7-a6e5-7e4a81b5722b",
   "metadata": {},
   "outputs": [],
   "source": []
  },
  {
   "cell_type": "code",
   "execution_count": 4,
   "id": "03d1f9c0-5680-4872-ada5-d340ab34459d",
   "metadata": {},
   "outputs": [
    {
     "data": {
      "text/plain": [
       "(96365, 4)"
      ]
     },
     "execution_count": 4,
     "metadata": {},
     "output_type": "execute_result"
    }
   ],
   "source": [
    "df.shape"
   ]
  },
  {
   "cell_type": "code",
   "execution_count": 5,
   "id": "8d51bb7b-321c-4f25-b1ca-d3b88d6da3d9",
   "metadata": {},
   "outputs": [
    {
     "data": {
      "text/html": [
       "<div>\n",
       "<style scoped>\n",
       "    .dataframe tbody tr th:only-of-type {\n",
       "        vertical-align: middle;\n",
       "    }\n",
       "\n",
       "    .dataframe tbody tr th {\n",
       "        vertical-align: top;\n",
       "    }\n",
       "\n",
       "    .dataframe thead th {\n",
       "        text-align: right;\n",
       "    }\n",
       "</style>\n",
       "<table border=\"1\" class=\"dataframe\">\n",
       "  <thead>\n",
       "    <tr style=\"text-align: right;\">\n",
       "      <th></th>\n",
       "      <th>0</th>\n",
       "      <th>1</th>\n",
       "      <th>2</th>\n",
       "      <th>3</th>\n",
       "    </tr>\n",
       "  </thead>\n",
       "  <tbody>\n",
       "    <tr>\n",
       "      <th>0</th>\n",
       "      <td>id</td>\n",
       "      <td>tweet_text</td>\n",
       "      <td>tweet_created_at</td>\n",
       "      <td>tweet_intent</td>\n",
       "    </tr>\n",
       "    <tr>\n",
       "      <th>1</th>\n",
       "      <td>1212762</td>\n",
       "      <td>@crypto_brody @eCoLoGy1990 @MoonrunnersNFT @It...</td>\n",
       "      <td>2022-08-06T16:56:36.000Z</td>\n",
       "      <td>Community</td>\n",
       "    </tr>\n",
       "    <tr>\n",
       "      <th>2</th>\n",
       "      <td>1212763</td>\n",
       "      <td>Need Sick Character artâ“#art #artist #Artist...</td>\n",
       "      <td>2022-08-06T16:56:36.000Z</td>\n",
       "      <td>Giveaway</td>\n",
       "    </tr>\n",
       "    <tr>\n",
       "      <th>3</th>\n",
       "      <td>1212765</td>\n",
       "      <td>@The_Hulk_NFT @INagotchiNFT @Tesla @killabears...</td>\n",
       "      <td>2022-08-06T16:56:35.000Z</td>\n",
       "      <td>Appreciation</td>\n",
       "    </tr>\n",
       "    <tr>\n",
       "      <th>4</th>\n",
       "      <td>1212766</td>\n",
       "      <td>@CryptoBatzNFT @DarekBTW The first project in ...</td>\n",
       "      <td>2022-08-06T16:56:35.000Z</td>\n",
       "      <td>Community</td>\n",
       "    </tr>\n",
       "  </tbody>\n",
       "</table>\n",
       "</div>"
      ],
      "text/plain": [
       "         0                                                  1  \\\n",
       "0       id                                         tweet_text   \n",
       "1  1212762  @crypto_brody @eCoLoGy1990 @MoonrunnersNFT @It...   \n",
       "2  1212763  Need Sick Character artâ“#art #artist #Artist...   \n",
       "3  1212765  @The_Hulk_NFT @INagotchiNFT @Tesla @killabears...   \n",
       "4  1212766  @CryptoBatzNFT @DarekBTW The first project in ...   \n",
       "\n",
       "                          2             3  \n",
       "0          tweet_created_at  tweet_intent  \n",
       "1  2022-08-06T16:56:36.000Z     Community  \n",
       "2  2022-08-06T16:56:36.000Z      Giveaway  \n",
       "3  2022-08-06T16:56:35.000Z  Appreciation  \n",
       "4  2022-08-06T16:56:35.000Z     Community  "
      ]
     },
     "execution_count": 5,
     "metadata": {},
     "output_type": "execute_result"
    }
   ],
   "source": [
    "df.head()"
   ]
  },
  {
   "cell_type": "code",
   "execution_count": 6,
   "id": "4559e36d-3be0-4ac6-a915-a536d7d48f61",
   "metadata": {},
   "outputs": [],
   "source": [
    "df=df.loc[1:,[1,3]]"
   ]
  },
  {
   "cell_type": "code",
   "execution_count": 7,
   "id": "2d30d11d-8d39-4240-b39d-e7ded72111e4",
   "metadata": {},
   "outputs": [
    {
     "data": {
      "text/html": [
       "<div>\n",
       "<style scoped>\n",
       "    .dataframe tbody tr th:only-of-type {\n",
       "        vertical-align: middle;\n",
       "    }\n",
       "\n",
       "    .dataframe tbody tr th {\n",
       "        vertical-align: top;\n",
       "    }\n",
       "\n",
       "    .dataframe thead th {\n",
       "        text-align: right;\n",
       "    }\n",
       "</style>\n",
       "<table border=\"1\" class=\"dataframe\">\n",
       "  <thead>\n",
       "    <tr style=\"text-align: right;\">\n",
       "      <th></th>\n",
       "      <th>1</th>\n",
       "      <th>3</th>\n",
       "    </tr>\n",
       "  </thead>\n",
       "  <tbody>\n",
       "    <tr>\n",
       "      <th>1</th>\n",
       "      <td>@crypto_brody @eCoLoGy1990 @MoonrunnersNFT @It...</td>\n",
       "      <td>Community</td>\n",
       "    </tr>\n",
       "    <tr>\n",
       "      <th>2</th>\n",
       "      <td>Need Sick Character artâ“#art #artist #Artist...</td>\n",
       "      <td>Giveaway</td>\n",
       "    </tr>\n",
       "    <tr>\n",
       "      <th>3</th>\n",
       "      <td>@The_Hulk_NFT @INagotchiNFT @Tesla @killabears...</td>\n",
       "      <td>Appreciation</td>\n",
       "    </tr>\n",
       "    <tr>\n",
       "      <th>4</th>\n",
       "      <td>@CryptoBatzNFT @DarekBTW The first project in ...</td>\n",
       "      <td>Community</td>\n",
       "    </tr>\n",
       "    <tr>\n",
       "      <th>5</th>\n",
       "      <td>@sashadysonn The first project in crypto with ...</td>\n",
       "      <td>Community</td>\n",
       "    </tr>\n",
       "  </tbody>\n",
       "</table>\n",
       "</div>"
      ],
      "text/plain": [
       "                                                   1             3\n",
       "1  @crypto_brody @eCoLoGy1990 @MoonrunnersNFT @It...     Community\n",
       "2  Need Sick Character artâ“#art #artist #Artist...      Giveaway\n",
       "3  @The_Hulk_NFT @INagotchiNFT @Tesla @killabears...  Appreciation\n",
       "4  @CryptoBatzNFT @DarekBTW The first project in ...     Community\n",
       "5  @sashadysonn The first project in crypto with ...     Community"
      ]
     },
     "execution_count": 7,
     "metadata": {},
     "output_type": "execute_result"
    }
   ],
   "source": [
    "df.head()"
   ]
  },
  {
   "cell_type": "code",
   "execution_count": 8,
   "id": "693481fb-19b7-4f6c-944f-a8fd8df9306e",
   "metadata": {},
   "outputs": [],
   "source": [
    "df=df.reset_index(drop=True) #Resetting Indexes of the dataframe"
   ]
  },
  {
   "cell_type": "code",
   "execution_count": 9,
   "id": "23062a5d-0ba3-4182-bfa1-0d62423fda86",
   "metadata": {},
   "outputs": [
    {
     "data": {
      "text/html": [
       "<div>\n",
       "<style scoped>\n",
       "    .dataframe tbody tr th:only-of-type {\n",
       "        vertical-align: middle;\n",
       "    }\n",
       "\n",
       "    .dataframe tbody tr th {\n",
       "        vertical-align: top;\n",
       "    }\n",
       "\n",
       "    .dataframe thead th {\n",
       "        text-align: right;\n",
       "    }\n",
       "</style>\n",
       "<table border=\"1\" class=\"dataframe\">\n",
       "  <thead>\n",
       "    <tr style=\"text-align: right;\">\n",
       "      <th></th>\n",
       "      <th>1</th>\n",
       "      <th>3</th>\n",
       "    </tr>\n",
       "  </thead>\n",
       "  <tbody>\n",
       "    <tr>\n",
       "      <th>count</th>\n",
       "      <td>96364</td>\n",
       "      <td>96364</td>\n",
       "    </tr>\n",
       "    <tr>\n",
       "      <th>unique</th>\n",
       "      <td>84908</td>\n",
       "      <td>9</td>\n",
       "    </tr>\n",
       "    <tr>\n",
       "      <th>top</th>\n",
       "      <td>@Codex314159265 Feature it on @Globalnft07\\nWe...</td>\n",
       "      <td>Community</td>\n",
       "    </tr>\n",
       "    <tr>\n",
       "      <th>freq</th>\n",
       "      <td>381</td>\n",
       "      <td>41510</td>\n",
       "    </tr>\n",
       "  </tbody>\n",
       "</table>\n",
       "</div>"
      ],
      "text/plain": [
       "                                                        1          3\n",
       "count                                               96364      96364\n",
       "unique                                              84908          9\n",
       "top     @Codex314159265 Feature it on @Globalnft07\\nWe...  Community\n",
       "freq                                                  381      41510"
      ]
     },
     "execution_count": 9,
     "metadata": {},
     "output_type": "execute_result"
    }
   ],
   "source": [
    "df.describe()"
   ]
  },
  {
   "cell_type": "markdown",
   "id": "38a86f16-1035-43f3-8cc6-ad607d115255",
   "metadata": {},
   "source": [
    "# Data Cleaning"
   ]
  },
  {
   "cell_type": "code",
   "execution_count": 10,
   "id": "a962b4ef-9ae7-4de1-8dba-e0e24a34a505",
   "metadata": {},
   "outputs": [],
   "source": [
    "from nltk.tokenize import regexp_tokenize\n",
    "from nltk.corpus import stopwords"
   ]
  },
  {
   "cell_type": "code",
   "execution_count": 11,
   "id": "b2e94e0e-107c-4a2d-b038-e3d29816ceaf",
   "metadata": {},
   "outputs": [],
   "source": [
    "main_words = stopwords.words(\"english\")  #main words are some comman english words imported from stopards module"
   ]
  },
  {
   "cell_type": "code",
   "execution_count": 12,
   "id": "a9c7306d-16af-4c30-8ea9-44f66392cec2",
   "metadata": {},
   "outputs": [],
   "source": [
    "for i in range(df.shape[0]):\n",
    "        df.loc[i,1]=regexp_tokenize(df.loc[i,1],'[a-zA-z]+')\n",
    "        df.loc[i,1]=[i for i in df.loc[i,1] if i not in main_words]"
   ]
  },
  {
   "cell_type": "markdown",
   "id": "0edc0644-e47b-4db2-890e-c90f27d6906a",
   "metadata": {},
   "source": [
    "Above loop makes data clean by removing numbers and any other speacial charactors and some comman words"
   ]
  },
  {
   "cell_type": "code",
   "execution_count": 13,
   "id": "36eb4f96-0771-46dd-81c6-8611d5a5c5d6",
   "metadata": {},
   "outputs": [],
   "source": [
    "lens=[len(i) for i in df.loc[:,1]]"
   ]
  },
  {
   "cell_type": "code",
   "execution_count": 14,
   "id": "cb9d7dc8-01b9-4262-b7c8-ea6d876485c9",
   "metadata": {},
   "outputs": [],
   "source": [
    "max_length=max(lens) #gives me the maximum length of a list of main words of tweet"
   ]
  },
  {
   "cell_type": "code",
   "execution_count": 15,
   "id": "6223e5f5-7b91-41ae-a32a-a73fbdfa0477",
   "metadata": {},
   "outputs": [
    {
     "data": {
      "text/plain": [
       "['crypto_brody',\n",
       " 'eCoLoGy',\n",
       " 'MoonrunnersNFT',\n",
       " 'ItsukiNFT',\n",
       " 'thelittlesnft',\n",
       " 'SpaceRiders_NFT',\n",
       " 'WDoopsies',\n",
       " 'WomenandWeapons',\n",
       " 'WoWPixiesNFT',\n",
       " 'BokiNFT',\n",
       " 'quirkiesnft',\n",
       " 'bitcoin_bowie',\n",
       " 'Kal_El_Krypto_',\n",
       " 'sophiegreen',\n",
       " 'A',\n",
       " 'new',\n",
       " 'cryptocurrency',\n",
       " 'born',\n",
       " 'fans',\n",
       " 'Chihuahua',\n",
       " 'meme',\n",
       " 'community',\n",
       " 'It',\n",
       " 'simply',\n",
       " 'pets',\n",
       " 'love',\n",
       " 'keep',\n",
       " 'transaction',\n",
       " 'automatically',\n",
       " 'distributed',\n",
       " 'CA',\n",
       " 'x',\n",
       " 'fd',\n",
       " 'c',\n",
       " 'B',\n",
       " 'Dea',\n",
       " 'E',\n",
       " 'b',\n",
       " 'f',\n",
       " 'Chihuahua_bsc',\n",
       " 'TG',\n",
       " 'https',\n",
       " 'co',\n",
       " 'wqSzCivfaM']"
      ]
     },
     "execution_count": 15,
     "metadata": {},
     "output_type": "execute_result"
    }
   ],
   "source": [
    "df.loc[0,1]"
   ]
  },
  {
   "cell_type": "code",
   "execution_count": null,
   "id": "cf58d81a-e0d9-4ba8-8491-980f4084c562",
   "metadata": {},
   "outputs": [],
   "source": []
  },
  {
   "cell_type": "markdown",
   "id": "15e8327f-2d5b-43df-8dd1-520f1a37e1c8",
   "metadata": {},
   "source": [
    "# Splitting Data for training sets"
   ]
  },
  {
   "cell_type": "code",
   "execution_count": null,
   "id": "d1447467-3150-41c3-b2a0-8652847e6c52",
   "metadata": {},
   "outputs": [],
   "source": []
  },
  {
   "cell_type": "code",
   "execution_count": 16,
   "id": "03575653-353d-4102-a714-1b19b12f44a3",
   "metadata": {},
   "outputs": [],
   "source": [
    "xtrain=df.loc[:,1]"
   ]
  },
  {
   "cell_type": "code",
   "execution_count": 17,
   "id": "c55ab014-ed3f-4151-8429-92d074a801e6",
   "metadata": {},
   "outputs": [],
   "source": [
    "ytrain=df.loc[:,3]"
   ]
  },
  {
   "cell_type": "code",
   "execution_count": 18,
   "id": "d9ab9200-ecbc-40f3-88d0-f36eb77e1f65",
   "metadata": {},
   "outputs": [
    {
     "data": {
      "text/plain": [
       "0           Community\n",
       "1            Giveaway\n",
       "2        Appreciation\n",
       "3           Community\n",
       "4           Community\n",
       "             ...     \n",
       "96359    Appreciation\n",
       "96360         Presale\n",
       "96361    Appreciation\n",
       "96362       Community\n",
       "96363    Appreciation\n",
       "Name: 3, Length: 96364, dtype: object"
      ]
     },
     "execution_count": 18,
     "metadata": {},
     "output_type": "execute_result"
    }
   ],
   "source": [
    "ytrain"
   ]
  },
  {
   "cell_type": "code",
   "execution_count": null,
   "id": "5b4c6ba2-0bc1-4f90-82b1-07b3d95c1104",
   "metadata": {},
   "outputs": [],
   "source": []
  },
  {
   "cell_type": "markdown",
   "id": "1c923354-c6f5-4c9a-8f8e-b9b5e5fd7d12",
   "metadata": {},
   "source": [
    "# Final Data preperation for model Training using embeddings"
   ]
  },
  {
   "cell_type": "code",
   "execution_count": null,
   "id": "0b57d3b9-b72d-409d-a71b-8b22141d31e9",
   "metadata": {},
   "outputs": [],
   "source": []
  },
  {
   "cell_type": "code",
   "execution_count": 19,
   "id": "24d0c4d3-3931-4689-8565-fc9535706f81",
   "metadata": {},
   "outputs": [],
   "source": [
    "f=open(\"glove.6B.50d.txt\",encoding=\"UTF-8\") # here I use pre Trained embeddings vector"
   ]
  },
  {
   "cell_type": "code",
   "execution_count": 20,
   "id": "59743272-c43d-4a1d-9762-c6d0d660159f",
   "metadata": {},
   "outputs": [],
   "source": [
    "embeddings123={}  #diction of embedded data words of around 6 billion words\n",
    "\n",
    "\n",
    "for i in f:\n",
    "    values=i.split()\n",
    "    word=values[0]\n",
    "    coeff=np.asarray(values[1:],dtype=\"float\")\n",
    "    #print(word,coeff)\n",
    "    embeddings123[word]=coeff\n",
    "    \n",
    "f.close()"
   ]
  },
  {
   "cell_type": "code",
   "execution_count": 21,
   "id": "a168295a-1e6f-4837-b22f-54363ffdcf8a",
   "metadata": {},
   "outputs": [],
   "source": [
    "def embeddings_outputs(X):\n",
    "    \n",
    "    embeddings_out=np.zeros((X.shape[0],max_length,50))\n",
    "    \n",
    "    for i in range(X.shape[0]):\n",
    "        # X.loc[i,1]=X.loc[i,1].split()\n",
    "        \n",
    "        for j in range(len(X[0])):\n",
    "            try:\n",
    "                embeddings_out[i][j]=embeddings123[X[i][j].lower()]\n",
    "            except:\n",
    "                 embeddings_out[i][j]=np.zeros((50,))\n",
    "    \n",
    "    return embeddings_out"
   ]
  },
  {
   "cell_type": "code",
   "execution_count": 22,
   "id": "a3b45132-2e57-41e1-9066-bfb02ebe3a1f",
   "metadata": {},
   "outputs": [],
   "source": [
    "embeddings_matrix_train=embeddings_outputs(xtrain)"
   ]
  },
  {
   "cell_type": "markdown",
   "id": "1a22f3ce-bc96-42d4-9ade-6edd99dd52fa",
   "metadata": {},
   "source": [
    "Finally converted given data for model training (features class)"
   ]
  },
  {
   "cell_type": "code",
   "execution_count": null,
   "id": "00f2f035-b22b-4626-9172-e18d0aa8d132",
   "metadata": {},
   "outputs": [],
   "source": []
  },
  {
   "cell_type": "code",
   "execution_count": 23,
   "id": "b1e37806-4b74-467f-9512-8528d5cba1b6",
   "metadata": {},
   "outputs": [],
   "source": [
    "from sklearn import preprocessing\n",
    "  \n",
    "# label_encoder object knows how to understand word labels.\n",
    "label_encoder = preprocessing.LabelEncoder()\n",
    "  \n",
    "# Encode labels in ytrain.\n",
    "ytrain= label_encoder.fit_transform(ytrain)"
   ]
  },
  {
   "cell_type": "code",
   "execution_count": null,
   "id": "80260d35-fdcf-43f6-a922-8ed997a21ccc",
   "metadata": {},
   "outputs": [],
   "source": []
  },
  {
   "cell_type": "code",
   "execution_count": 24,
   "id": "a1f3e082-7dcb-4fb8-8232-a4152da3ebf5",
   "metadata": {},
   "outputs": [],
   "source": [
    "from tensorflow.keras.utils import to_categorical"
   ]
  },
  {
   "cell_type": "code",
   "execution_count": 25,
   "id": "49c0a77b-e1b7-4886-809a-fa5a58bf9b63",
   "metadata": {},
   "outputs": [],
   "source": [
    "ytrain=to_categorical(ytrain,num_classes=9) #converted encodded data to as one hot vector\n"
   ]
  },
  {
   "cell_type": "markdown",
   "id": "dfc5687d-9eea-41c9-9f73-ba971761579f",
   "metadata": {},
   "source": [
    "Finally converted given data for model training (Derived class)"
   ]
  },
  {
   "cell_type": "code",
   "execution_count": null,
   "id": "6f433dda-4200-4744-b6f8-69cc2aadb48c",
   "metadata": {},
   "outputs": [],
   "source": []
  },
  {
   "cell_type": "markdown",
   "id": "353c4328-6439-4da0-9292-e11effcb241e",
   "metadata": {},
   "source": [
    "# Model Building"
   ]
  },
  {
   "cell_type": "code",
   "execution_count": 26,
   "id": "75582ad6-7d32-4ae0-b9cd-811084910fd2",
   "metadata": {},
   "outputs": [],
   "source": [
    "from keras.models import Sequential\n",
    "from keras.layers import *"
   ]
  },
  {
   "cell_type": "code",
   "execution_count": 27,
   "id": "f04d4135-139f-4c30-a316-a955ce9094d4",
   "metadata": {},
   "outputs": [
    {
     "name": "stdout",
     "output_type": "stream",
     "text": [
      "Model: \"sequential\"\n",
      "_________________________________________________________________\n",
      " Layer (type)                Output Shape              Param #   \n",
      "=================================================================\n",
      " lstm (LSTM)                 (None, 65, 64)            29440     \n",
      "                                                                 \n",
      " dropout (Dropout)           (None, 65, 64)            0         \n",
      "                                                                 \n",
      " lstm_1 (LSTM)               (None, 64)                33024     \n",
      "                                                                 \n",
      " dropout_1 (Dropout)         (None, 64)                0         \n",
      "                                                                 \n",
      " dense (Dense)               (None, 9)                 585       \n",
      "                                                                 \n",
      " activation (Activation)     (None, 9)                 0         \n",
      "                                                                 \n",
      "=================================================================\n",
      "Total params: 63,049\n",
      "Trainable params: 63,049\n",
      "Non-trainable params: 0\n",
      "_________________________________________________________________\n"
     ]
    }
   ],
   "source": [
    "model=Sequential()\n",
    "model.add(LSTM(64,input_shape=(65,50),return_sequences=True))\n",
    "model.add(Dropout(0.5))\n",
    "model.add(LSTM(64,return_sequences=False))\n",
    "model.add(Dropout(0.5))\n",
    "model.add(Dense(9))\n",
    "model.add(Activation(\"softmax\"))\n",
    "model.compile(loss=\"categorical_crossentropy\",optimizer=\"adam\",metrics=[\"accuracy\"])\n",
    "model.summary()"
   ]
  },
  {
   "cell_type": "code",
   "execution_count": null,
   "id": "4b447548-48e3-43e0-93d2-3ca871381b21",
   "metadata": {},
   "outputs": [
    {
     "name": "stdout",
     "output_type": "stream",
     "text": [
      "Epoch 1/10\n",
      "1205/1205 [==============================] - 94s 74ms/step - loss: 0.8586 - accuracy: 0.7109 - val_loss: 0.6050 - val_accuracy: 0.8057\n",
      "Epoch 2/10\n",
      "1205/1205 [==============================] - 91s 76ms/step - loss: 0.4950 - accuracy: 0.8461 - val_loss: 0.4933 - val_accuracy: 0.8402\n",
      "Epoch 3/10\n",
      "1205/1205 [==============================] - 88s 73ms/step - loss: 0.4108 - accuracy: 0.8729 - val_loss: 0.5028 - val_accuracy: 0.8396\n",
      "Epoch 4/10\n",
      "1205/1205 [==============================] - 78s 65ms/step - loss: 0.3709 - accuracy: 0.8837 - val_loss: 0.4544 - val_accuracy: 0.8499\n",
      "Epoch 5/10\n",
      "1205/1205 [==============================] - 98s 81ms/step - loss: 0.3484 - accuracy: 0.8917 - val_loss: 0.4198 - val_accuracy: 0.8653\n",
      "Epoch 6/10\n",
      "1205/1205 [==============================] - 80s 66ms/step - loss: 0.3177 - accuracy: 0.9012 - val_loss: 0.4035 - val_accuracy: 0.8713\n",
      "Epoch 7/10\n",
      "1205/1205 [==============================] - 82s 68ms/step - loss: 0.3061 - accuracy: 0.9050 - val_loss: 0.4388 - val_accuracy: 0.8664\n",
      "Epoch 8/10\n",
      "1205/1205 [==============================] - 74s 62ms/step - loss: 0.3016 - accuracy: 0.9083 - val_loss: 0.3916 - val_accuracy: 0.8764\n",
      "Epoch 9/10\n",
      " 609/1205 [==============>...............] - ETA: 37s - loss: 0.2759 - accuracy: 0.9150"
     ]
    }
   ],
   "source": [
    "hist=model.fit(embeddings_matrix_train,ytrain,epochs=10,batch_size=64,shuffle=True,validation_split=0.2) #model Training"
   ]
  },
  {
   "cell_type": "code",
   "execution_count": null,
   "id": "ff4fc7da-e633-4756-b6f9-1ac23e2a268b",
   "metadata": {},
   "outputs": [],
   "source": []
  },
  {
   "cell_type": "markdown",
   "id": "05cb3c93-27a1-4427-9fd4-b8c3dcafde18",
   "metadata": {},
   "source": [
    "# Data Loading, preprocessing and preparing for testing my model and prediction"
   ]
  },
  {
   "cell_type": "markdown",
   "id": "928e10da-59e3-4230-9bb9-27b546d19a31",
   "metadata": {},
   "source": [
    "PS: Following same steps as used above for training data"
   ]
  },
  {
   "cell_type": "code",
   "execution_count": null,
   "id": "45cf74d3-95b9-495e-83e0-aa98ef0cc6ce",
   "metadata": {},
   "outputs": [],
   "source": [
    "df1=pd.read_csv(\"Tweet_NFT.xlsx - Sheet1.csv\",header=None)"
   ]
  },
  {
   "cell_type": "code",
   "execution_count": null,
   "id": "b88508f5-30e5-4227-ad68-724f65d1feea",
   "metadata": {},
   "outputs": [],
   "source": [
    "df1=df1.loc[96365:,[1,3]]"
   ]
  },
  {
   "cell_type": "code",
   "execution_count": null,
   "id": "8233ed76-7db5-48f8-b7de-201f3f0d12f3",
   "metadata": {},
   "outputs": [],
   "source": [
    "df1=df1.reset_index(drop=True)"
   ]
  },
  {
   "cell_type": "code",
   "execution_count": null,
   "id": "cb5d81e5-aa05-4948-bc53-7b92573c354d",
   "metadata": {},
   "outputs": [],
   "source": [
    "df1\n"
   ]
  },
  {
   "cell_type": "code",
   "execution_count": null,
   "id": "b734ab5b-73f4-4806-b9ec-d2378942fb01",
   "metadata": {},
   "outputs": [],
   "source": [
    "for i in range(df1.shape[0]):\n",
    "        df1.loc[i,1]=regexp_tokenize(df1.loc[i,1],'[a-zA-z]+')\n",
    "        df1.loc[i,1]=[i for i in df1.loc[i,1] if i not in main_words]"
   ]
  },
  {
   "cell_type": "code",
   "execution_count": null,
   "id": "6e492e86-f9a8-4b6b-885f-8d2d15cf923b",
   "metadata": {},
   "outputs": [],
   "source": [
    "lens=[len(i) for i in df1.loc[:,1]]"
   ]
  },
  {
   "cell_type": "code",
   "execution_count": null,
   "id": "b677529e-eb84-4eb1-9532-b161e16d2731",
   "metadata": {},
   "outputs": [],
   "source": [
    "max_length=max(lens)"
   ]
  },
  {
   "cell_type": "code",
   "execution_count": null,
   "id": "acf684ac-7cf6-4741-8151-f3ad1b9a492a",
   "metadata": {},
   "outputs": [],
   "source": [
    "max_length"
   ]
  },
  {
   "cell_type": "code",
   "execution_count": null,
   "id": "c2ab2af0-a509-4f8e-92d9-60cb053dfe1b",
   "metadata": {},
   "outputs": [],
   "source": [
    "df1.loc[0,1]"
   ]
  },
  {
   "cell_type": "code",
   "execution_count": null,
   "id": "b0748afd-b595-408b-a937-9fe7719f0062",
   "metadata": {},
   "outputs": [],
   "source": []
  },
  {
   "cell_type": "code",
   "execution_count": null,
   "id": "3baa0767-6929-48eb-ae90-2bd2aae51f77",
   "metadata": {},
   "outputs": [],
   "source": [
    "xtest=df1.loc[:,1]"
   ]
  },
  {
   "cell_type": "code",
   "execution_count": null,
   "id": "2c8b63fc-40cc-4d84-aa35-bc60db64784c",
   "metadata": {},
   "outputs": [],
   "source": [
    "embeddings_matrix_test=embeddings_outputs(xtest)"
   ]
  },
  {
   "cell_type": "code",
   "execution_count": null,
   "id": "bc86bcf6-871e-4319-a8de-0437a559bc6d",
   "metadata": {},
   "outputs": [],
   "source": [
    "embeddings_matrix_test"
   ]
  },
  {
   "cell_type": "code",
   "execution_count": null,
   "id": "c2ad34b4-78d9-4f51-940f-45b2f2b61ab4",
   "metadata": {},
   "outputs": [],
   "source": []
  },
  {
   "cell_type": "markdown",
   "id": "88903251-432a-40a1-ad73-cb628c2be508",
   "metadata": {},
   "source": [
    "# Prediction Time"
   ]
  },
  {
   "cell_type": "code",
   "execution_count": null,
   "id": "e4ce7cd7-00dd-4292-8d33-fbe3d3dd31a4",
   "metadata": {},
   "outputs": [],
   "source": []
  },
  {
   "cell_type": "code",
   "execution_count": 291,
   "id": "5434787f-b030-4ac8-8f53-e49a666c5020",
   "metadata": {},
   "outputs": [],
   "source": [
    "y=model.predict(embeddings_matrix_test)"
   ]
  },
  {
   "cell_type": "code",
   "execution_count": 292,
   "id": "3798e014-eee6-43b4-a5f1-c9064654f243",
   "metadata": {},
   "outputs": [
    {
     "data": {
      "text/plain": [
       "array([[6.4441562e-02, 4.6273398e-01, 4.0621176e-02, ..., 1.8752927e-02,\n",
       "        2.9430071e-01, 5.1447476e-04],\n",
       "       [6.8940707e-03, 6.9994578e-04, 8.8187563e-04, ..., 1.8244582e-03,\n",
       "        1.4167126e-02, 6.8765999e-05],\n",
       "       [6.9867754e-03, 6.1286516e-03, 4.8420377e-04, ..., 8.9980889e-04,\n",
       "        7.2342064e-03, 3.0298748e-05],\n",
       "       ...,\n",
       "       [6.9786496e-02, 2.3819473e-01, 3.7870184e-02, ..., 1.8532118e-02,\n",
       "        5.1029325e-01, 5.0855271e-04],\n",
       "       [4.7790521e-01, 8.8610120e-02, 5.9248652e-02, ..., 4.6350639e-02,\n",
       "        1.5818998e-01, 5.9136312e-04],\n",
       "       [8.5068196e-03, 7.5627756e-01, 1.3610853e-02, ..., 2.5372028e-03,\n",
       "        1.3354321e-01, 1.6733908e-04]], dtype=float32)"
      ]
     },
     "execution_count": 292,
     "metadata": {},
     "output_type": "execute_result"
    }
   ],
   "source": [
    "y"
   ]
  },
  {
   "cell_type": "code",
   "execution_count": 239,
   "id": "17fc82e1-cfeb-48c9-8f76-3c315875eab0",
   "metadata": {},
   "outputs": [],
   "source": []
  },
  {
   "cell_type": "markdown",
   "id": "7ce2fa17-b385-4aab-a830-3895afbce792",
   "metadata": {},
   "source": [
    "### Cocnverting predicted array format back to required format"
   ]
  },
  {
   "cell_type": "code",
   "execution_count": 294,
   "id": "bb2608c2-1f86-4ea0-992e-bb22c8f2e452",
   "metadata": {},
   "outputs": [],
   "source": [
    "y=np.argmax(y,axis=1)"
   ]
  },
  {
   "cell_type": "code",
   "execution_count": 295,
   "id": "2d9f253b-6760-40d3-8d48-938c315986ab",
   "metadata": {},
   "outputs": [],
   "source": [
    "y= label_encoder.inverse_transform(y)"
   ]
  },
  {
   "cell_type": "code",
   "execution_count": 296,
   "id": "f4c0c242-bd0f-455c-aa47-4e19ebb029ad",
   "metadata": {},
   "outputs": [
    {
     "data": {
      "text/plain": [
       "array(['Community', 'Giveaway', 'Giveaway', ..., 'Whitelist',\n",
       "       'Appreciation', 'Community'], dtype=object)"
      ]
     },
     "execution_count": 296,
     "metadata": {},
     "output_type": "execute_result"
    }
   ],
   "source": [
    "y"
   ]
  },
  {
   "cell_type": "code",
   "execution_count": 312,
   "id": "8b267086-b1ba-46ad-a043-6052da67893e",
   "metadata": {},
   "outputs": [
    {
     "ename": "ValueError",
     "evalue": "could not convert string to float: 'Community'",
     "output_type": "error",
     "traceback": [
      "\u001b[1;31m---------------------------------------------------------------------------\u001b[0m",
      "\u001b[1;31mValueError\u001b[0m                                Traceback (most recent call last)",
      "\u001b[1;32m~\\AppData\\Local\\Temp/ipykernel_20696/1497429676.py\u001b[0m in \u001b[0;36m<module>\u001b[1;34m\u001b[0m\n\u001b[1;32m----> 1\u001b[1;33m \u001b[0marr\u001b[0m\u001b[1;33m=\u001b[0m\u001b[0mnp\u001b[0m\u001b[1;33m.\u001b[0m\u001b[0masarray\u001b[0m\u001b[1;33m(\u001b[0m\u001b[0my\u001b[0m\u001b[1;33m,\u001b[0m\u001b[0mdtype\u001b[0m\u001b[1;33m=\u001b[0m\u001b[1;34m\"float64\"\u001b[0m\u001b[1;33m)\u001b[0m\u001b[1;33m\u001b[0m\u001b[1;33m\u001b[0m\u001b[0m\n\u001b[0m",
      "\u001b[1;31mValueError\u001b[0m: could not convert string to float: 'Community'"
     ]
    }
   ],
   "source": []
  },
  {
   "cell_type": "code",
   "execution_count": 309,
   "id": "6c8fc907-fd9a-45bb-8884-58a4ef73b04c",
   "metadata": {},
   "outputs": [],
   "source": []
  },
  {
   "cell_type": "markdown",
   "id": "614e7f09-c7b0-47aa-81df-49982a4d79e4",
   "metadata": {},
   "source": [
    "### Calling data again to add Predicted Array to it"
   ]
  },
  {
   "cell_type": "code",
   "execution_count": 332,
   "id": "d8a2d2fc-c7aa-4423-a9db-546d6593b847",
   "metadata": {},
   "outputs": [],
   "source": [
    "df2=pd.read_csv(\"Tweet_NFT.xlsx - Sheet1.csv\")"
   ]
  },
  {
   "cell_type": "code",
   "execution_count": 338,
   "id": "4eee067b-fb98-469e-ac27-2791cf453fa7",
   "metadata": {},
   "outputs": [],
   "source": [
    "for i in range(len(df2.loc[96364:,\"tweet_intent\"])):\n",
    "    df2.loc[96364+i:,\"tweet_intent\"]=y[i]\n",
    "    "
   ]
  },
  {
   "cell_type": "code",
   "execution_count": 340,
   "id": "d31c163f-3294-42dc-94f7-6d332e854474",
   "metadata": {},
   "outputs": [
    {
     "data": {
      "text/plain": [
       "96362        Community\n",
       "96363     Appreciation\n",
       "96364        Community\n",
       "96365         Giveaway\n",
       "96366         Giveaway\n",
       "              ...     \n",
       "127448    Appreciation\n",
       "127449       Community\n",
       "127450       Whitelist\n",
       "127451    Appreciation\n",
       "127452       Community\n",
       "Name: tweet_intent, Length: 31091, dtype: object"
      ]
     },
     "execution_count": 340,
     "metadata": {},
     "output_type": "execute_result"
    }
   ],
   "source": [
    "df2.loc[96362:,\"tweet_intent\"]"
   ]
  },
  {
   "cell_type": "code",
   "execution_count": 341,
   "id": "a6971cbb-c7f8-41c1-b23a-a5ad522d2098",
   "metadata": {},
   "outputs": [
    {
     "data": {
      "text/html": [
       "<div>\n",
       "<style scoped>\n",
       "    .dataframe tbody tr th:only-of-type {\n",
       "        vertical-align: middle;\n",
       "    }\n",
       "\n",
       "    .dataframe tbody tr th {\n",
       "        vertical-align: top;\n",
       "    }\n",
       "\n",
       "    .dataframe thead th {\n",
       "        text-align: right;\n",
       "    }\n",
       "</style>\n",
       "<table border=\"1\" class=\"dataframe\">\n",
       "  <thead>\n",
       "    <tr style=\"text-align: right;\">\n",
       "      <th></th>\n",
       "      <th>id</th>\n",
       "      <th>tweet_text</th>\n",
       "      <th>tweet_created_at</th>\n",
       "      <th>tweet_intent</th>\n",
       "    </tr>\n",
       "  </thead>\n",
       "  <tbody>\n",
       "    <tr>\n",
       "      <th>0</th>\n",
       "      <td>1212762</td>\n",
       "      <td>@crypto_brody @eCoLoGy1990 @MoonrunnersNFT @It...</td>\n",
       "      <td>2022-08-06T16:56:36.000Z</td>\n",
       "      <td>Community</td>\n",
       "    </tr>\n",
       "    <tr>\n",
       "      <th>1</th>\n",
       "      <td>1212763</td>\n",
       "      <td>Need Sick Character artâ“#art #artist #Artist...</td>\n",
       "      <td>2022-08-06T16:56:36.000Z</td>\n",
       "      <td>Giveaway</td>\n",
       "    </tr>\n",
       "    <tr>\n",
       "      <th>2</th>\n",
       "      <td>1212765</td>\n",
       "      <td>@The_Hulk_NFT @INagotchiNFT @Tesla @killabears...</td>\n",
       "      <td>2022-08-06T16:56:35.000Z</td>\n",
       "      <td>Appreciation</td>\n",
       "    </tr>\n",
       "    <tr>\n",
       "      <th>3</th>\n",
       "      <td>1212766</td>\n",
       "      <td>@CryptoBatzNFT @DarekBTW The first project in ...</td>\n",
       "      <td>2022-08-06T16:56:35.000Z</td>\n",
       "      <td>Community</td>\n",
       "    </tr>\n",
       "    <tr>\n",
       "      <th>4</th>\n",
       "      <td>1212767</td>\n",
       "      <td>@sashadysonn The first project in crypto with ...</td>\n",
       "      <td>2022-08-06T16:56:34.000Z</td>\n",
       "      <td>Community</td>\n",
       "    </tr>\n",
       "  </tbody>\n",
       "</table>\n",
       "</div>"
      ],
      "text/plain": [
       "        id                                         tweet_text  \\\n",
       "0  1212762  @crypto_brody @eCoLoGy1990 @MoonrunnersNFT @It...   \n",
       "1  1212763  Need Sick Character artâ“#art #artist #Artist...   \n",
       "2  1212765  @The_Hulk_NFT @INagotchiNFT @Tesla @killabears...   \n",
       "3  1212766  @CryptoBatzNFT @DarekBTW The first project in ...   \n",
       "4  1212767  @sashadysonn The first project in crypto with ...   \n",
       "\n",
       "           tweet_created_at  tweet_intent  \n",
       "0  2022-08-06T16:56:36.000Z     Community  \n",
       "1  2022-08-06T16:56:36.000Z      Giveaway  \n",
       "2  2022-08-06T16:56:35.000Z  Appreciation  \n",
       "3  2022-08-06T16:56:35.000Z     Community  \n",
       "4  2022-08-06T16:56:34.000Z     Community  "
      ]
     },
     "execution_count": 341,
     "metadata": {},
     "output_type": "execute_result"
    }
   ],
   "source": [
    "df2.head()"
   ]
  },
  {
   "cell_type": "markdown",
   "id": "8c7abe48-3dcc-42ee-8411-e0228659ae96",
   "metadata": {},
   "source": [
    "# Result"
   ]
  },
  {
   "cell_type": "code",
   "execution_count": 342,
   "id": "a09ff06f-b984-409c-9d8e-226699504337",
   "metadata": {},
   "outputs": [
    {
     "data": {
      "text/html": [
       "<div>\n",
       "<style scoped>\n",
       "    .dataframe tbody tr th:only-of-type {\n",
       "        vertical-align: middle;\n",
       "    }\n",
       "\n",
       "    .dataframe tbody tr th {\n",
       "        vertical-align: top;\n",
       "    }\n",
       "\n",
       "    .dataframe thead th {\n",
       "        text-align: right;\n",
       "    }\n",
       "</style>\n",
       "<table border=\"1\" class=\"dataframe\">\n",
       "  <thead>\n",
       "    <tr style=\"text-align: right;\">\n",
       "      <th></th>\n",
       "      <th>id</th>\n",
       "      <th>tweet_text</th>\n",
       "      <th>tweet_created_at</th>\n",
       "      <th>tweet_intent</th>\n",
       "    </tr>\n",
       "  </thead>\n",
       "  <tbody>\n",
       "    <tr>\n",
       "      <th>0</th>\n",
       "      <td>1212762</td>\n",
       "      <td>@crypto_brody @eCoLoGy1990 @MoonrunnersNFT @It...</td>\n",
       "      <td>2022-08-06T16:56:36.000Z</td>\n",
       "      <td>Community</td>\n",
       "    </tr>\n",
       "    <tr>\n",
       "      <th>1</th>\n",
       "      <td>1212763</td>\n",
       "      <td>Need Sick Character artâ“#art #artist #Artist...</td>\n",
       "      <td>2022-08-06T16:56:36.000Z</td>\n",
       "      <td>Giveaway</td>\n",
       "    </tr>\n",
       "    <tr>\n",
       "      <th>2</th>\n",
       "      <td>1212765</td>\n",
       "      <td>@The_Hulk_NFT @INagotchiNFT @Tesla @killabears...</td>\n",
       "      <td>2022-08-06T16:56:35.000Z</td>\n",
       "      <td>Appreciation</td>\n",
       "    </tr>\n",
       "    <tr>\n",
       "      <th>3</th>\n",
       "      <td>1212766</td>\n",
       "      <td>@CryptoBatzNFT @DarekBTW The first project in ...</td>\n",
       "      <td>2022-08-06T16:56:35.000Z</td>\n",
       "      <td>Community</td>\n",
       "    </tr>\n",
       "    <tr>\n",
       "      <th>4</th>\n",
       "      <td>1212767</td>\n",
       "      <td>@sashadysonn The first project in crypto with ...</td>\n",
       "      <td>2022-08-06T16:56:34.000Z</td>\n",
       "      <td>Community</td>\n",
       "    </tr>\n",
       "    <tr>\n",
       "      <th>...</th>\n",
       "      <td>...</td>\n",
       "      <td>...</td>\n",
       "      <td>...</td>\n",
       "      <td>...</td>\n",
       "    </tr>\n",
       "    <tr>\n",
       "      <th>127448</th>\n",
       "      <td>1278721</td>\n",
       "      <td>@Jason My company Universe is solving this, an...</td>\n",
       "      <td>2022-08-08T03:32:01.000Z</td>\n",
       "      <td>Appreciation</td>\n",
       "    </tr>\n",
       "    <tr>\n",
       "      <th>127449</th>\n",
       "      <td>1278723</td>\n",
       "      <td>@BosoTokyo Many will get rekt in this NFT</td>\n",
       "      <td>2022-08-08T03:32:00.000Z</td>\n",
       "      <td>Community</td>\n",
       "    </tr>\n",
       "    <tr>\n",
       "      <th>127450</th>\n",
       "      <td>1278724</td>\n",
       "      <td>@leeneedham81 @KibaInuWorld @HODL_OFFICIAL @Ko...</td>\n",
       "      <td>2022-08-08T03:32:00.000Z</td>\n",
       "      <td>Whitelist</td>\n",
       "    </tr>\n",
       "    <tr>\n",
       "      <th>127451</th>\n",
       "      <td>1278725</td>\n",
       "      <td>@1kz3ro @UNLEASHED_NFT I love this job</td>\n",
       "      <td>2022-08-08T03:31:59.000Z</td>\n",
       "      <td>Appreciation</td>\n",
       "    </tr>\n",
       "    <tr>\n",
       "      <th>127452</th>\n",
       "      <td>1278729</td>\n",
       "      <td>@Shill_Ronin @UNLEASHED_NFT my proof https://t...</td>\n",
       "      <td>2022-08-08T03:31:58.000Z</td>\n",
       "      <td>Community</td>\n",
       "    </tr>\n",
       "  </tbody>\n",
       "</table>\n",
       "<p>127453 rows × 4 columns</p>\n",
       "</div>"
      ],
      "text/plain": [
       "             id                                         tweet_text  \\\n",
       "0       1212762  @crypto_brody @eCoLoGy1990 @MoonrunnersNFT @It...   \n",
       "1       1212763  Need Sick Character artâ“#art #artist #Artist...   \n",
       "2       1212765  @The_Hulk_NFT @INagotchiNFT @Tesla @killabears...   \n",
       "3       1212766  @CryptoBatzNFT @DarekBTW The first project in ...   \n",
       "4       1212767  @sashadysonn The first project in crypto with ...   \n",
       "...         ...                                                ...   \n",
       "127448  1278721  @Jason My company Universe is solving this, an...   \n",
       "127449  1278723          @BosoTokyo Many will get rekt in this NFT   \n",
       "127450  1278724  @leeneedham81 @KibaInuWorld @HODL_OFFICIAL @Ko...   \n",
       "127451  1278725             @1kz3ro @UNLEASHED_NFT I love this job   \n",
       "127452  1278729  @Shill_Ronin @UNLEASHED_NFT my proof https://t...   \n",
       "\n",
       "                tweet_created_at  tweet_intent  \n",
       "0       2022-08-06T16:56:36.000Z     Community  \n",
       "1       2022-08-06T16:56:36.000Z      Giveaway  \n",
       "2       2022-08-06T16:56:35.000Z  Appreciation  \n",
       "3       2022-08-06T16:56:35.000Z     Community  \n",
       "4       2022-08-06T16:56:34.000Z     Community  \n",
       "...                          ...           ...  \n",
       "127448  2022-08-08T03:32:01.000Z  Appreciation  \n",
       "127449  2022-08-08T03:32:00.000Z     Community  \n",
       "127450  2022-08-08T03:32:00.000Z     Whitelist  \n",
       "127451  2022-08-08T03:31:59.000Z  Appreciation  \n",
       "127452  2022-08-08T03:31:58.000Z     Community  \n",
       "\n",
       "[127453 rows x 4 columns]"
      ]
     },
     "execution_count": 342,
     "metadata": {},
     "output_type": "execute_result"
    }
   ],
   "source": [
    "df2 "
   ]
  },
  {
   "cell_type": "markdown",
   "id": "8fc2fe8d-6037-424d-bff6-72a57e8311f9",
   "metadata": {},
   "source": [
    "## Finally Saving updated tweets with their intents"
   ]
  },
  {
   "cell_type": "code",
   "execution_count": 345,
   "id": "3354180f-dfe9-41f6-86db-dc329063037a",
   "metadata": {},
   "outputs": [],
   "source": [
    "df2.to_csv(\"Tweet_NFT_Updated.csv\",index=False) "
   ]
  },
  {
   "cell_type": "code",
   "execution_count": null,
   "id": "e6563d3a-ea68-4f95-933f-36439ee2b9c1",
   "metadata": {},
   "outputs": [],
   "source": []
  },
  {
   "cell_type": "code",
   "execution_count": null,
   "id": "4b44d349-2fb6-44aa-822b-89d8334d68a6",
   "metadata": {},
   "outputs": [],
   "source": []
  }
 ],
 "metadata": {
  "kernelspec": {
   "display_name": "Python 3 (ipykernel)",
   "language": "python",
   "name": "python3"
  },
  "language_info": {
   "codemirror_mode": {
    "name": "ipython",
    "version": 3
   },
   "file_extension": ".py",
   "mimetype": "text/x-python",
   "name": "python",
   "nbconvert_exporter": "python",
   "pygments_lexer": "ipython3",
   "version": "3.9.7"
  }
 },
 "nbformat": 4,
 "nbformat_minor": 5
}
